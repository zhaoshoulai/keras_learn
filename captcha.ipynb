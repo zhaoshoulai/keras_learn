{
 "cells": [
  {
   "cell_type": "code",
   "execution_count": 2,
   "metadata": {},
   "outputs": [],
   "source": [
    "import tensorflow as tf\n",
    "from captcha.image import ImageCaptcha\n",
    "import numpy as np\n",
    "import matplotlib.pyplot as plt\n",
    "from PIL import Image\n",
    "import random"
   ]
  },
  {
   "cell_type": "code",
   "execution_count": 3,
   "metadata": {},
   "outputs": [
    {
     "name": "stdout",
     "output_type": "stream",
     "text": [
      "['w', 'f', 'w', 'a']\n"
     ]
    }
   ],
   "source": [
    "alphabet = ['a','b','c','d','e','f','g','h','i','j','k','l','m','n','o','p','q','r','s','t','u','v','w','x','y','z']\n",
    "def random_captcha_text(char_set=alphabet,captcha_size=4):\n",
    "    captcha_text = []\n",
    "    for i in range(captcha_size):\n",
    "        c = random.choice(char_set)\n",
    "        captcha_text.append(c)\n",
    "    return captcha_text\n",
    "\n",
    "print(random_captcha_text())"
   ]
  },
  {
   "cell_type": "code",
   "execution_count": 4,
   "metadata": {},
   "outputs": [
    {
     "name": "stdout",
     "output_type": "stream",
     "text": [
      "('zmmc', array([[[252, 246, 243],\n",
      "        [252, 246, 243],\n",
      "        [252, 246, 243],\n",
      "        ...,\n",
      "        [252, 246, 243],\n",
      "        [252, 246, 243],\n",
      "        [252, 246, 243]],\n",
      "\n",
      "       [[252, 246, 243],\n",
      "        [252, 246, 243],\n",
      "        [252, 246, 243],\n",
      "        ...,\n",
      "        [252, 246, 243],\n",
      "        [252, 246, 243],\n",
      "        [252, 246, 243]],\n",
      "\n",
      "       [[252, 246, 243],\n",
      "        [252, 246, 243],\n",
      "        [252, 246, 243],\n",
      "        ...,\n",
      "        [252, 246, 243],\n",
      "        [252, 246, 243],\n",
      "        [252, 246, 243]],\n",
      "\n",
      "       ...,\n",
      "\n",
      "       [[252, 246, 243],\n",
      "        [252, 246, 243],\n",
      "        [252, 246, 243],\n",
      "        ...,\n",
      "        [243, 232, 237],\n",
      "        [252, 246, 243],\n",
      "        [252, 246, 243]],\n",
      "\n",
      "       [[252, 246, 243],\n",
      "        [252, 246, 243],\n",
      "        [252, 246, 243],\n",
      "        ...,\n",
      "        [252, 246, 243],\n",
      "        [252, 246, 243],\n",
      "        [252, 246, 243]],\n",
      "\n",
      "       [[252, 246, 243],\n",
      "        [252, 246, 243],\n",
      "        [252, 246, 243],\n",
      "        ...,\n",
      "        [252, 246, 243],\n",
      "        [252, 246, 243],\n",
      "        [252, 246, 243]]], dtype=uint8))\n"
     ]
    }
   ],
   "source": [
    "def gen_captcha_text_and_image():\n",
    "    image =  ImageCaptcha()\n",
    "    captcha_text = random_captcha_text()\n",
    "    captcha_text =  ''.join(captcha_text)\n",
    "    \n",
    "    captcha = image.generate(captcha_text)\n",
    "    captcha_image = Image.open(captcha)\n",
    "    captcha_image = np.array(captcha_image)\n",
    "    \n",
    "    return captcha_text, captcha_image\n",
    "\n",
    "print(gen_captcha_text_and_image())"
   ]
  },
  {
   "cell_type": "code",
   "execution_count": 7,
   "metadata": {},
   "outputs": [],
   "source": [
    "def convert2gray(image):\n",
    "    if len(image.shape) > 2:\n",
    "        r, g, b = image[:, :, 0], image[:, :, 1], image[:, :, 2]\n",
    "        gray = 0.2989 * r + 0.5870 * g + 0.1140 * b\n",
    "        return gray\n",
    "    else:\n",
    "        return image\n",
    "\n",
    "def text2vec(text):\n",
    "    text_len = len(text)\n",
    "    "
   ]
  },
  {
   "cell_type": "code",
   "execution_count": 10,
   "metadata": {},
   "outputs": [
    {
     "data": {
      "image/png": "[encoded data removed]",
      "text/plain": [
       "<Figure size 432x288 with 1 Axes>"
      ]
     },
     "metadata": {},
     "output_type": "display_data"
    }
   ],
   "source": [
    "if __name__== '__main__':\n",
    "    text, image = gen_captcha_text_and_image()\n",
    "    image = convert2gray(image)\n",
    "    f = plt.figure()\n",
    "    ax = f.add_subplot(111)\n",
    "    ax.text(0.1, 0.9, text, ha='center', va='center', transform=ax.transAxes)\n",
    "    plt.imshow(image)\n",
    "    plt.show()"
   ]
  },
  {
   "cell_type": "code",
   "execution_count": null,
   "metadata": {},
   "outputs": [],
   "source": []
  }
 ],
 "metadata": {
  "kernelspec": {
   "display_name": "Python 3",
   "language": "python",
   "name": "python3"
  },
  "language_info": {
   "codemirror_mode": {
    "name": "ipython",
    "version": 3
   },
   "file_extension": ".py",
   "mimetype": "text/x-python",
   "name": "python",
   "nbconvert_exporter": "python",
   "pygments_lexer": "ipython3",
   "version": "3.6.5"
  }
 },
 "nbformat": 4,
 "nbformat_minor": 2
}
